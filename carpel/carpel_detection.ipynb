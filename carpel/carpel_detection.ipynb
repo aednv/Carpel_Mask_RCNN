{
 "cells": [
  {
   "cell_type": "markdown",
   "metadata": {},
   "source": [
    "# Run carpel detection on multiple x-ray images"
   ]
  },
  {
   "cell_type": "markdown",
   "metadata": {},
   "source": [
    "## Set directories"
   ]
  },
  {
   "cell_type": "code",
   "execution_count": null,
   "metadata": {},
   "outputs": [],
   "source": [
    "# make empty dataframe to store carpel area info\n",
    "all_dfs = pd.DataFrame()\n",
    "\n",
    "# set directory to folder with x-ray images. Remember to convert from tif to 8-bit RGB jpeg\n",
    "# to-do: add batch tif to jpeg conversion\n",
    "dataset_dir = (ROOT_DIR + \"/datasets/21UM/gt1P\")\n",
    "\n",
    "# set save directory for mask arrays (if desired) and final csv\n",
    "save_dir = (ROOT_DIR + \"/results/21UM/gt1P\")\n",
    "os.mkdir(save_dir + \"/mask_arrays\")\n",
    "\n",
    "dataset_all = os.listdir(dataset_dir)\n",
    "# dataset = fnmatch.filter(dataset_all, '*08.jpg') + fnmatch.filter(dataset_all, '*10.jpg') # if desired, modify which x-ray image angles are included in the analysis\n",
    "dataset = dataset_all\n",
    "print(\"Measuring \" + str(len(dataset)) + \" images from \" + dataset_dir)\n",
    "print(\"Saving output in \" + save_dir)"
   ]
  },
  {
   "cell_type": "markdown",
   "metadata": {},
   "source": [
    "## Calculate carpel area  "
   ]
  },
  {
   "cell_type": "code",
   "execution_count": null,
   "metadata": {},
   "outputs": [],
   "source": [
    "# detect carpels in each x-ray\n",
    "# inputs: x-ray jpegs from dataset_dir\n",
    "# outputs: dataframe all_dfs with all carpel area measurements. Written to carpel_area_results.csv in save_dir\n",
    "for image_id in dataset:\n",
    "\n",
    "    #generate temp dataframe for image_id\n",
    "    df = pd.DataFrame(area_data, columns=['image_id', 'carpel_number', 'carpel_area'])\n",
    "    df[\"image_id\"] = str(image_id)\n",
    "    \n",
    "    #run detection\n",
    "    print(\"Running detection on image \" + str(dataset.index(image_id) + 1) + \"/\" + str(len(dataset)))\n",
    "    image = skimage.io.imread(dataset_dir + '/' + image_id)\n",
    "    r = model.detect([image], verbose=0)\n",
    "    # np.save(save_dir + \"/mask_arrays/\" + str(image_id) + \".npy\", r) # if desired, save numpy array\n",
    "    r = r[0]\n",
    "    \n",
    "    # skip image if no carpels detected\n",
    "    if np.size(r['masks']) == 0:\n",
    "        print(\"No carpels detected.\")\n",
    "        continue\n",
    "        \n",
    "    #plot the detections\n",
    "    ax = get_ax(1)\n",
    "    display_carpel_instances(image, r['rois'], r['masks'], r['class_ids'], r['scores'], ax=ax, title= image_id + \" Predictions\")\n",
    "    \n",
    "    #if desired, save mask overlay plot of detected carpels\n",
    "    #plt.savefig(save_dir + \"/\" + str(image_id) + '.masks.jpg')\n",
    "    #plt.close()\n",
    "    \n",
    "    #measure carpel pixel area\n",
    "    carpel_count = np.reshape(r['masks'], (-1, r['masks'].shape[-1])).astype(np.float32).shape\n",
    "    print(str(carpel_count[1]) + \" carpels detected.\")\n",
    "    area_data = np.ndarray(shape=(carpel_count[1],3), dtype=float, order='F')\n",
    "    for x in range(0,(carpel_count[1])):\n",
    "        area_sum = np.reshape(r['masks'], (-1, r['masks'].shape[-1])).astype(np.float32)[:,x].sum()\n",
    "        print(\"Pixel area of carpel \" + str(x) + \": \" + str(area_sum))\n",
    "        df[\"carpel_number\"][x] = x\n",
    "        df[\"carpel_area\"][x] = area_sum\n",
    "    \n",
    "    #merge new dataframe with previous dataframe\n",
    "    all_dfs = pd.concat([all_dfs, df])\n",
    "    #write dataframe to csv at each step\n",
    "    all_dfs.to_csv(save_dir + \"/carpel_area_results.csv\", header= True)"
   ]
  }
 ],
 "metadata": {
  "interpreter": {
   "hash": "7a6f2798d62dd709e0a6abec44c6b8b5e43172ab713f199cc0e1ee12c7cb2f6c"
  },
  "kernelspec": {
   "display_name": "Python 3.10.2 64-bit",
   "language": "python",
   "name": "python3"
  },
  "language_info": {
   "codemirror_mode": {
    "name": "ipython",
    "version": 3
   },
   "file_extension": ".py",
   "mimetype": "text/x-python",
   "name": "python",
   "nbconvert_exporter": "python",
   "pygments_lexer": "ipython3",
   "version": "3.10.2"
  },
  "orig_nbformat": 4
 },
 "nbformat": 4,
 "nbformat_minor": 2
}
